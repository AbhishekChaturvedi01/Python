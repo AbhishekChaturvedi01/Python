{
  "nbformat": 4,
  "nbformat_minor": 0,
  "metadata": {
    "colab": {
      "provenance": [],
      "authorship_tag": "ABX9TyN1yKSX8vujIezVEO8JRzJm",
      "include_colab_link": true
    },
    "kernelspec": {
      "name": "python3",
      "display_name": "Python 3"
    },
    "language_info": {
      "name": "python"
    }
  },
  "cells": [
    {
      "cell_type": "markdown",
      "metadata": {
        "id": "view-in-github",
        "colab_type": "text"
      },
      "source": [
        "<a href=\"https://colab.research.google.com/github/0AbhishekChaturvedi/Python/blob/main/Functions.ipynb\" target=\"_parent\"><img src=\"https://colab.research.google.com/assets/colab-badge.svg\" alt=\"Open In Colab\"/></a>"
      ]
    },
    {
      "cell_type": "markdown",
      "source": [
        "###.Function Introduction\n",
        "> Function is a block of code which only runs when it is called. it is used for code reusability<br>\n",
        "Function has a name for identification.\n",
        "\n",
        "\n",
        "> Functions are of two types\n",
        "* Built in-> print,input,etc\n",
        "* user defined: you as a programmer can define ur own functions\n",
        "\n",
        "##### Syntax\n",
        "def fun_name(variable as input):<br>\n",
        "  \"\"\" here you write docstring which is optional.. after docstring you write your code and add return keyword in that code to make your function return soemthing\"\"\"<br>\n",
        "    code....<br>\n",
        "    return \n",
        "\n"
      ],
      "metadata": {
        "id": "pFOHbb253nLZ"
      }
    },
    {
      "cell_type": "code",
      "execution_count": null,
      "metadata": {
        "id": "s4KG5JOU26if"
      },
      "outputs": [],
      "source": [
        "# Let's create first function (with docstring)\n",
        "def is_even(num):\n",
        "  \"\"\"\n",
        "  This function returns if given number is odd or even\n",
        "  input - any valid integer\n",
        "  output-odd/even\n",
        "  \"\"\"\n",
        "  if type(num)==int:\n",
        "    if num %2 ==0:\n",
        "      return \"even\"\n",
        "    else :\n",
        "      return 'odd'\n",
        "  else:\n",
        "    return \"this is not integer value\""
      ]
    },
    {
      "cell_type": "code",
      "source": [
        "# we have defined the function.. but let's call the function\n",
        "for i in range(1,11):\n",
        "  x=is_even(i)\n",
        "  print(x)\n"
      ],
      "metadata": {
        "colab": {
          "base_uri": "https://localhost:8080/"
        },
        "id": "BRRlxbDY7APr",
        "outputId": "d9149c97-821b-4989-d4e9-a180c4e3e32a"
      },
      "execution_count": null,
      "outputs": [
        {
          "output_type": "stream",
          "name": "stdout",
          "text": [
            "odd\n",
            "even\n",
            "odd\n",
            "even\n",
            "odd\n",
            "even\n",
            "odd\n",
            "even\n",
            "odd\n",
            "even\n"
          ]
        }
      ]
    },
    {
      "cell_type": "code",
      "source": [
        "is_even(\"gee\")"
      ],
      "metadata": {
        "colab": {
          "base_uri": "https://localhost:8080/",
          "height": 35
        },
        "id": "qywAM0JX7kbj",
        "outputId": "83a74460-4b0f-4bcb-bd8d-fa9bafc283ef"
      },
      "execution_count": null,
      "outputs": [
        {
          "output_type": "execute_result",
          "data": {
            "text/plain": [
              "'this is not integer value'"
            ],
            "application/vnd.google.colaboratory.intrinsic+json": {
              "type": "string"
            }
          },
          "metadata": {},
          "execution_count": 3
        }
      ]
    },
    {
      "cell_type": "code",
      "source": [
        "# This will give the docstring of the function\n",
        "is_even.__doc__"
      ],
      "metadata": {
        "colab": {
          "base_uri": "https://localhost:8080/",
          "height": 52
        },
        "id": "dFVKkcEvWNt3",
        "outputId": "8464978b-412f-48c4-ef5b-41464e7b59ed"
      },
      "execution_count": null,
      "outputs": [
        {
          "output_type": "execute_result",
          "data": {
            "text/plain": [
              "'\\n  This function returns if given number is odd or even\\n  input - any valid integer\\n  output-odd/even\\n  '"
            ],
            "application/vnd.google.colaboratory.intrinsic+json": {
              "type": "string"
            }
          },
          "metadata": {},
          "execution_count": 4
        }
      ]
    },
    {
      "cell_type": "markdown",
      "source": [
        "### Parameters Vs Arguments\n",
        "while defining functions, inputs as variable are called the parameters<br> and while calling functions, inputs are called the argunments\n",
        "\n",
        "### Types of Arguments\n",
        "there are various way of passing argunemt\n",
        "- Default Argument\n",
        "- Positional Argument\n",
        "- Keyword Argument"
      ],
      "metadata": {
        "id": "w3GMaveC9K8V"
      }
    },
    {
      "cell_type": "code",
      "source": [
        "# Default Argunment: Here you set default value to your parameters\n",
        "# if you dont pass any values while calling the function, it wont give you\n",
        "# error .. instead it will assume the default value as argunment\n",
        "def power(a,b):\n",
        "  return a**b"
      ],
      "metadata": {
        "id": "T7tP_SUa7kmu"
      },
      "execution_count": null,
      "outputs": []
    },
    {
      "cell_type": "code",
      "source": [
        "power(2)"
      ],
      "metadata": {
        "colab": {
          "base_uri": "https://localhost:8080/",
          "height": 166
        },
        "id": "VCKyrbAZ7kqc",
        "outputId": "fc728707-99d3-465a-eed8-d2efd142c3bc"
      },
      "execution_count": null,
      "outputs": [
        {
          "output_type": "error",
          "ename": "TypeError",
          "evalue": "ignored",
          "traceback": [
            "\u001b[0;31m---------------------------------------------------------------------------\u001b[0m",
            "\u001b[0;31mTypeError\u001b[0m                                 Traceback (most recent call last)",
            "\u001b[0;32m<ipython-input-6-d32e0df8244d>\u001b[0m in \u001b[0;36m<module>\u001b[0;34m\u001b[0m\n\u001b[0;32m----> 1\u001b[0;31m \u001b[0mpower\u001b[0m\u001b[0;34m(\u001b[0m\u001b[0;36m2\u001b[0m\u001b[0;34m)\u001b[0m\u001b[0;34m\u001b[0m\u001b[0;34m\u001b[0m\u001b[0m\n\u001b[0m",
            "\u001b[0;31mTypeError\u001b[0m: power() missing 1 required positional argument: 'b'"
          ]
        }
      ]
    },
    {
      "cell_type": "code",
      "source": [
        "# here i have set the default values of a and b are 2, and 3\n",
        "def power(a=2,b=3):\n",
        "  return a**b"
      ],
      "metadata": {
        "id": "1vdthRL57ktt"
      },
      "execution_count": null,
      "outputs": []
    },
    {
      "cell_type": "code",
      "source": [
        "power(3,5)"
      ],
      "metadata": {
        "colab": {
          "base_uri": "https://localhost:8080/"
        },
        "id": "lAilt3MK-8Pm",
        "outputId": "47ee19cb-40e5-4c17-8732-05985e3ece34"
      },
      "execution_count": null,
      "outputs": [
        {
          "output_type": "execute_result",
          "data": {
            "text/plain": [
              "243"
            ]
          },
          "metadata": {},
          "execution_count": 8
        }
      ]
    },
    {
      "cell_type": "code",
      "source": [
        "# Here we have passed the value of a only but it has assumed the value of b , the default value of b\n",
        "# that's why output is 64\n",
        "power(4)"
      ],
      "metadata": {
        "colab": {
          "base_uri": "https://localhost:8080/"
        },
        "id": "4o6bdwNf_Bqx",
        "outputId": "a8be0d53-e853-4d59-9f5f-415aa9df7275"
      },
      "execution_count": null,
      "outputs": [
        {
          "output_type": "execute_result",
          "data": {
            "text/plain": [
              "64"
            ]
          },
          "metadata": {},
          "execution_count": 9
        }
      ]
    },
    {
      "cell_type": "code",
      "source": [
        "power()"
      ],
      "metadata": {
        "colab": {
          "base_uri": "https://localhost:8080/"
        },
        "id": "jIkeYL-1-_Xx",
        "outputId": "59118bb2-abe2-4744-e5b8-75a0635b8766"
      },
      "execution_count": null,
      "outputs": [
        {
          "output_type": "execute_result",
          "data": {
            "text/plain": [
              "8"
            ]
          },
          "metadata": {},
          "execution_count": 10
        }
      ]
    },
    {
      "cell_type": "code",
      "source": [
        "# positional argunment\n",
        "power(2,5)"
      ],
      "metadata": {
        "colab": {
          "base_uri": "https://localhost:8080/"
        },
        "id": "ghuF9UorAc4b",
        "outputId": "a5a20168-a29d-4fb0-e6cc-ec74cad5f6da"
      },
      "execution_count": null,
      "outputs": [
        {
          "output_type": "execute_result",
          "data": {
            "text/plain": [
              "32"
            ]
          },
          "metadata": {},
          "execution_count": 11
        }
      ]
    },
    {
      "cell_type": "markdown",
      "source": [
        "Why did we get 2<sup>5</sup> = 32 as output in above cell instead of 5<sup>2</sup> = 25.. It seems to  have something to do with order/position .. right?<br>\n",
        "yes when you pass the argunments to function, it follow the same order the way parameter are made...\n",
        "And this default behavior is called the ### positional argunment\n",
        "\n",
        "\n",
        "\n"
      ],
      "metadata": {
        "id": "l71QOaERByjE"
      }
    },
    {
      "cell_type": "code",
      "source": [
        "\"\"\"keyword argunments: while passing the argunment, you can pass them\n",
        "by calling their name(parameters' name).. here  the function doesn't follow positional \n",
        " argunment\"\"\"\n",
        "power(b=4,a=3)\n"
      ],
      "metadata": {
        "colab": {
          "base_uri": "https://localhost:8080/"
        },
        "id": "-lWHlw4mBUpT",
        "outputId": "456c2854-d872-482f-d261-e3b5f2b247d7"
      },
      "execution_count": null,
      "outputs": [
        {
          "output_type": "execute_result",
          "data": {
            "text/plain": [
              "81"
            ]
          },
          "metadata": {},
          "execution_count": 12
        }
      ]
    },
    {
      "cell_type": "markdown",
      "source": [
        "### `*args and **kwargs`\n",
        "`*args and **kwargs` are special Python keywords that are used to pass the variable length of arguments to a function"
      ],
      "metadata": {
        "id": "nUNAwisiHjos"
      }
    },
    {
      "cell_type": "code",
      "source": [
        "# args\n",
        "# allow us to pass a variable number of non-keyword argunments to a functiom\n",
        "def multiply(a,b):\n",
        "  return a*b"
      ],
      "metadata": {
        "id": "AEm_xYgXGpfm"
      },
      "execution_count": null,
      "outputs": []
    },
    {
      "cell_type": "code",
      "source": [
        "multiply(2,3)"
      ],
      "metadata": {
        "colab": {
          "base_uri": "https://localhost:8080/"
        },
        "id": "QPxEo60EQa_2",
        "outputId": "bae0ee02-748e-4580-ec73-d9346ddd7869"
      },
      "execution_count": null,
      "outputs": [
        {
          "output_type": "execute_result",
          "data": {
            "text/plain": [
              "6"
            ]
          },
          "metadata": {},
          "execution_count": 14
        }
      ]
    },
    {
      "cell_type": "markdown",
      "source": [
        "let's suppose you want to pass multiple number of argunment in this multiply function.. what will you do..? \n",
        "you can't call the function the way it has been called in just above cell, because while defining the function, you have given only two parameters...\n",
        "but there is a way.. you can use\n",
        "## `*args` in parameter ... <br>\n",
        "here you can pass n numbers of keywords argunment  as parameters.. \n",
        "`*args` is just convention.. you can use anything instead..\n",
        "for example *SRK, *India, *Love etc"
      ],
      "metadata": {
        "id": "Cdwj181FQl0a"
      }
    },
    {
      "cell_type": "code",
      "source": [
        "# This will give error because it has been designed for only two argunments\n",
        "multiply(2,3,5)"
      ],
      "metadata": {
        "colab": {
          "base_uri": "https://localhost:8080/",
          "height": 201
        },
        "id": "X3uc9qcpQeXh",
        "outputId": "003867db-7592-4e09-bbcc-08cc8545a3f9"
      },
      "execution_count": null,
      "outputs": [
        {
          "output_type": "error",
          "ename": "TypeError",
          "evalue": "ignored",
          "traceback": [
            "\u001b[0;31m---------------------------------------------------------------------------\u001b[0m",
            "\u001b[0;31mTypeError\u001b[0m                                 Traceback (most recent call last)",
            "\u001b[0;32m<ipython-input-15-ce0e36dad9e1>\u001b[0m in \u001b[0;36m<module>\u001b[0;34m\u001b[0m\n\u001b[1;32m      1\u001b[0m \u001b[0;31m# This will give error because it has been designed for only two argunments\u001b[0m\u001b[0;34m\u001b[0m\u001b[0;34m\u001b[0m\u001b[0;34m\u001b[0m\u001b[0m\n\u001b[0;32m----> 2\u001b[0;31m \u001b[0mmultiply\u001b[0m\u001b[0;34m(\u001b[0m\u001b[0;36m2\u001b[0m\u001b[0;34m,\u001b[0m\u001b[0;36m3\u001b[0m\u001b[0;34m,\u001b[0m\u001b[0;36m5\u001b[0m\u001b[0;34m)\u001b[0m\u001b[0;34m\u001b[0m\u001b[0;34m\u001b[0m\u001b[0m\n\u001b[0m",
            "\u001b[0;31mTypeError\u001b[0m: multiply() takes 2 positional arguments but 3 were given"
          ]
        }
      ]
    },
    {
      "cell_type": "code",
      "source": [
        "# whenever python eterpreter see \"*\"\" in parameter, it save list of \n",
        "# the argunments in a tuple\n",
        "def multiply(*args):\n",
        "  product=1\n",
        "  for i in args:\n",
        "    product=product*i\n",
        "  print(args)\n",
        "  print(type(args))\n",
        "  return product"
      ],
      "metadata": {
        "id": "Nc5DfN9ZSvqJ"
      },
      "execution_count": null,
      "outputs": []
    },
    {
      "cell_type": "code",
      "source": [
        "# you can see the type of args\n",
        "multiply(4,5,6)"
      ],
      "metadata": {
        "colab": {
          "base_uri": "https://localhost:8080/"
        },
        "id": "rSm5ZN9ATQOX",
        "outputId": "fbd8f454-c45b-480b-8e65-bef7ea4000a8"
      },
      "execution_count": null,
      "outputs": [
        {
          "output_type": "stream",
          "name": "stdout",
          "text": [
            "(4, 5, 6)\n",
            "<class 'tuple'>\n"
          ]
        },
        {
          "output_type": "execute_result",
          "data": {
            "text/plain": [
              "120"
            ]
          },
          "metadata": {},
          "execution_count": 17
        }
      ]
    },
    {
      "cell_type": "code",
      "source": [
        "def add(*Love):\n",
        "  Sum=0\n",
        "  for x in Love:\n",
        "    Sum=Sum+x\n",
        "  print(Love)\n",
        "  print(type(Love))\n",
        "  return Sum"
      ],
      "metadata": {
        "id": "H-6IgNQ7TVn-"
      },
      "execution_count": null,
      "outputs": []
    },
    {
      "cell_type": "code",
      "source": [
        "add(5,67,45)"
      ],
      "metadata": {
        "colab": {
          "base_uri": "https://localhost:8080/"
        },
        "id": "KzHAIrdFU7I9",
        "outputId": "26cb1fee-fd58-47e0-fe8e-c7e1d69fabb9"
      },
      "execution_count": null,
      "outputs": [
        {
          "output_type": "stream",
          "name": "stdout",
          "text": [
            "(5, 67, 45)\n",
            "<class 'tuple'>\n"
          ]
        },
        {
          "output_type": "execute_result",
          "data": {
            "text/plain": [
              "117"
            ]
          },
          "metadata": {},
          "execution_count": 19
        }
      ]
    },
    {
      "cell_type": "code",
      "source": [
        "# **kwargs\n",
        "# **kwargs allows us to pass any number of keyword arguments.\n",
        "# Keyword arguments mean that they contain a key-value pair, like a Python dictionary\n",
        "def  display(**love):\n",
        "\n",
        "  for (key,value) in love.items():\n",
        "    print(love)\n",
        "    print(type(love))\n",
        "    return (key,'->',value)"
      ],
      "metadata": {
        "id": "LABR4Sm0U9nr"
      },
      "execution_count": null,
      "outputs": []
    },
    {
      "cell_type": "code",
      "source": [
        "display(India='Delhi',Germany='Berlin',Spain='Madrid',Italy='Rome')"
      ],
      "metadata": {
        "colab": {
          "base_uri": "https://localhost:8080/"
        },
        "id": "uC08-IwOynzg",
        "outputId": "79cd02f1-9b18-447a-9bcc-9e1b6bb51cc2"
      },
      "execution_count": null,
      "outputs": [
        {
          "output_type": "stream",
          "name": "stdout",
          "text": [
            "{'India': 'Delhi', 'Germany': 'Berlin', 'Spain': 'Madrid', 'Italy': 'Rome'}\n",
            "<class 'dict'>\n"
          ]
        },
        {
          "output_type": "execute_result",
          "data": {
            "text/plain": [
              "('India', '->', 'Delhi')"
            ]
          },
          "metadata": {},
          "execution_count": 30
        }
      ]
    },
    {
      "cell_type": "markdown",
      "source": [
        "##### Points to remember while using `*args and **kwargs`\n",
        "\n",
        "- order of the arguments matter(normal -> `*args` -> `**kwargs`)\n",
        "- The words “args” and “kwargs” are only a convention, you can use any name of your choice\n"
      ],
      "metadata": {
        "id": "3TcfQ0Q7ztLw"
      }
    },
    {
      "cell_type": "code",
      "source": [
        "\n",
        "def add1(a,*love):\n",
        "  print(a,sum(love))\n",
        "  for x in love:\n",
        "    print(x)\n",
        "  print(type(love))\n",
        "  print(love)"
      ],
      "metadata": {
        "id": "6mXdMVtey8NP"
      },
      "execution_count": null,
      "outputs": []
    },
    {
      "cell_type": "code",
      "source": [
        "# here first argunment will be stored in a, and rest 3 collectively will form a tuple\n",
        "add1(6,74,34,3)"
      ],
      "metadata": {
        "colab": {
          "base_uri": "https://localhost:8080/"
        },
        "id": "TJfzVfVj0lNS",
        "outputId": "8f04f477-b805-492b-f247-55435ed46b9f"
      },
      "execution_count": null,
      "outputs": [
        {
          "output_type": "stream",
          "name": "stdout",
          "text": [
            "6 111\n",
            "74\n",
            "34\n",
            "3\n",
            "<class 'tuple'>\n",
            "(74, 34, 3)\n"
          ]
        }
      ]
    },
    {
      "cell_type": "code",
      "source": [
        "# write a program to print table of a given number\n",
        "def table(a):\n",
        " b=0\n",
        " while b<10:\n",
        "  b+=1\n",
        "  print(b*a)"
      ],
      "metadata": {
        "id": "QjQhR3ni0ozB"
      },
      "execution_count": 1,
      "outputs": []
    },
    {
      "cell_type": "code",
      "source": [
        "table(9)"
      ],
      "metadata": {
        "colab": {
          "base_uri": "https://localhost:8080/"
        },
        "id": "Tt1zNRSwpqxX",
        "outputId": "2acb4f6b-8b7f-48a1-84ee-b315c9b2444f"
      },
      "execution_count": 2,
      "outputs": [
        {
          "output_type": "stream",
          "name": "stdout",
          "text": [
            "9\n",
            "18\n",
            "27\n",
            "36\n",
            "45\n",
            "54\n",
            "63\n",
            "72\n",
            "81\n",
            "90\n"
          ]
        }
      ]
    }
  ]
}